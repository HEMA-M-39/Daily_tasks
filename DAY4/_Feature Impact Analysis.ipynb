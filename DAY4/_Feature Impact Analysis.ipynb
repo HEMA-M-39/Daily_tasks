{
 "cells": [
  {
   "cell_type": "code",
   "execution_count": null,
   "id": "9313c0da-7010-4f05-b611-1e1d6a6e7147",
   "metadata": {},
   "outputs": [],
   "source": []
  }
 ],
 "metadata": {
  "kernelspec": {
   "display_name": "Python [conda env:base] *",
   "language": "python",
   "name": "conda-base-py"
  },
  "language_info": {
   "codemirror_mode": {
    "name": "ipython",
    "version": 3
   },
   "file_extension": ".py",
   "mimetype": "text/x-python",
   "name": "python",
   "nbconvert_exporter": "python",
   "pygments_lexer": "ipython3",
   "version": "3.12.4"
  }
 },
 "nbformat": 4,
 "nbformat_minor": 5
}
