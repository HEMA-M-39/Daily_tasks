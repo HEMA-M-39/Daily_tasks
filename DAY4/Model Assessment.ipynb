{
 "cells": [
  {
   "cell_type": "code",
   "execution_count": 1,
   "id": "805f16f8-bd1d-4f6c-9e9b-5f3410cea504",
   "metadata": {},
   "outputs": [
    {
     "name": "stdout",
     "output_type": "stream",
     "text": [
      "Intercept: 41593.55041356926\n",
      "Coefficients: [7079.88692284 -510.67951     -82.5044498 ]\n",
      "\n",
      "🔹 Model Performance Metrics:\n",
      "R-squared Score (R²): 0.9961\n",
      "Root Mean Squared Error (RMSE): 1556.2864\n",
      "\n",
      "✅ The model has a high R² value, indicating it explains most of the variance in salary.\n",
      "\n",
      "📌 RMSE Interpretation:\n",
      "An RMSE of 1556.29 means the model's salary predictions are off by approximately ±1556.29 on average.\n"
     ]
    }
   ],
   "source": [
    "# Import necessary libraries\n",
    "import numpy as np\n",
    "import pandas as pd\n",
    "import matplotlib.pyplot as plt\n",
    "import seaborn as sns\n",
    "from sklearn.model_selection import train_test_split\n",
    "from sklearn.linear_model import LinearRegression\n",
    "from sklearn.metrics import r2_score, mean_absolute_error, mean_squared_error\n",
    "\n",
    "# Step 1: Create Sample Dataset (Multiple Features)\n",
    "data = {\n",
    "    \"YearsExperience\": [1, 2, 3, 4, 5, 6, 7, 8, 9, 10],\n",
    "    \"EducationLevel\": [12, 14, 16, 12, 16, 18, 14, 16, 18, 20],  # Education in years\n",
    "    \"WorkHoursPerWeek\": [35, 40, 45, 50, 55, 60, 50, 45, 40, 35],  # Work hours per week\n",
    "    \"Salary\": [40000, 45000, 50000, 60000, 65000, 70000, 80000, 85000, 95000, 100000]\n",
    "}\n",
    "\n",
    "df = pd.DataFrame(data)\n",
    "\n",
    "# Define Features (X) and Target (y)\n",
    "X = df[[\"YearsExperience\", \"EducationLevel\", \"WorkHoursPerWeek\"]]\n",
    "y = df[\"Salary\"]\n",
    "\n",
    "# Split into Training (80%) and Testing (20%)\n",
    "X_train, X_test, y_train, y_test = train_test_split(X, y, test_size=0.2, random_state=42)\n",
    "\n",
    "# Step 2: Train the Multiple Linear Regression Model\n",
    "model = LinearRegression()\n",
    "model.fit(X_train, y_train)\n",
    "\n",
    "# Print Model Parameters\n",
    "print(f\"Intercept: {model.intercept_}\")\n",
    "print(f\"Coefficients: {model.coef_}\")\n",
    "\n",
    "# Step 3: Make Predictions\n",
    "y_pred = model.predict(X_test)\n",
    "\n",
    "# Step 4: Calculate Model Performance Metrics\n",
    "r2 = r2_score(y_test, y_pred)  # R-squared Score\n",
    "mse = mean_squared_error(y_test, y_pred)  # Mean Squared Error\n",
    "rmse = np.sqrt(mse)  # Root Mean Squared Error\n",
    "\n",
    "# Print Performance Metrics\n",
    "print(\"\\n🔹 Model Performance Metrics:\")\n",
    "print(f\"R-squared Score (R²): {r2:.4f}\")\n",
    "print(f\"Root Mean Squared Error (RMSE): {rmse:.4f}\")\n",
    "\n",
    "# Step 5: Interpret Metrics\n",
    "if r2 > 0.85:\n",
    "    print(\"\\n✅ The model has a high R² value, indicating it explains most of the variance in salary.\")\n",
    "elif r2 > 0.5:\n",
    "    print(\"\\n⚠️ The model has a moderate R² value, suggesting some predictive power but room for improvement.\")\n",
    "else:\n",
    "    print(\"\\n❌ The model has a low R² value, meaning it does not fit the data well.\")\n",
    "\n",
    "print(\"\\n📌 RMSE Interpretation:\")\n",
    "print(f\"An RMSE of {rmse:.2f} means the model's salary predictions are off by approximately ±{rmse:.2f} on average.\")\n"
   ]
  },
  {
   "cell_type": "code",
   "execution_count": null,
   "id": "729ace48-ea16-4f9a-8865-08e38c7f81c2",
   "metadata": {},
   "outputs": [],
   "source": []
  }
 ],
 "metadata": {
  "kernelspec": {
   "display_name": "Python [conda env:base] *",
   "language": "python",
   "name": "conda-base-py"
  },
  "language_info": {
   "codemirror_mode": {
    "name": "ipython",
    "version": 3
   },
   "file_extension": ".py",
   "mimetype": "text/x-python",
   "name": "python",
   "nbconvert_exporter": "python",
   "pygments_lexer": "ipython3",
   "version": "3.12.4"
  }
 },
 "nbformat": 4,
 "nbformat_minor": 5
}
