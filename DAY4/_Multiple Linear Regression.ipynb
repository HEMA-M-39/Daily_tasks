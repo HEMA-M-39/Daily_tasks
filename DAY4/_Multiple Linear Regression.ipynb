{
 "cells": [
  {
   "cell_type": "code",
   "execution_count": 1,
   "id": "71b57285-8996-4685-8f36-c563ec6e38ec",
   "metadata": {},
   "outputs": [
    {
     "name": "stdout",
     "output_type": "stream",
     "text": [
      "   YearsExperience  EducationLevel  WorkHoursPerWeek  Salary\n",
      "0                1              12                35   40000\n",
      "1                2              14                40   45000\n",
      "2                3              16                45   50000\n",
      "3                4              12                50   60000\n",
      "4                5              16                55   65000\n",
      "Intercept: 41593.55041356926\n",
      "Coefficients: [7079.88692284 -510.67951     -82.5044498 ]\n",
      "R-squared Score: 0.9961247564598215\n",
      "Mean Absolute Error (MAE): 1241.7547900743302\n",
      "Mean Squared Error (MSE): 2422027.212611592\n",
      "Root Mean Squared Error (RMSE): 1556.2863530249156\n"
     ]
    }
   ],
   "source": [
    "import numpy as np\n",
    "import pandas as pd\n",
    "import matplotlib.pyplot as plt\n",
    "import seaborn as sns\n",
    "from sklearn.model_selection import train_test_split\n",
    "from sklearn.linear_model import LinearRegression\n",
    "from sklearn.metrics import r2_score, mean_absolute_error, mean_squared_error\n",
    "\n",
    "# Sample dataset (Years of Experience, Education Level, Work Hours per Week -> Salary)\n",
    "data = {\n",
    "    \"YearsExperience\": [1, 2, 3, 4, 5, 6, 7, 8, 9, 10],\n",
    "    \"EducationLevel\": [12, 14, 16, 12, 16, 18, 14, 16, 18, 20],  # Education in years\n",
    "    \"WorkHoursPerWeek\": [35, 40, 45, 50, 55, 60, 50, 45, 40, 35],  # Work hours per week\n",
    "    \"Salary\": [40000, 45000, 50000, 60000, 65000, 70000, 80000, 85000, 95000, 100000]\n",
    "}\n",
    "\n",
    "df = pd.DataFrame(data)\n",
    "\n",
    "# Display first few rows\n",
    "print(df.head())\n",
    "\n",
    "# Define features (X) and target variable (y)\n",
    "X = df[[\"YearsExperience\", \"EducationLevel\", \"WorkHoursPerWeek\"]]\n",
    "y = df[\"Salary\"]\n",
    "\n",
    "# Split into training (80%) and testing (20%)\n",
    "X_train, X_test, y_train, y_test = train_test_split(X, y, test_size=0.2, random_state=42)\n",
    "\n",
    "\n",
    "# Train the model\n",
    "model = LinearRegression()\n",
    "model.fit(X_train, y_train)\n",
    "\n",
    "# Print model coefficients\n",
    "print(f\"Intercept: {model.intercept_}\")\n",
    "print(f\"Coefficients: {model.coef_}\")\n",
    "\n",
    "\n",
    "# Make predictions\n",
    "y_pred = model.predict(X_test)\n",
    "\n",
    "# Evaluate model performance\n",
    "r2 = r2_score(y_test, y_pred)\n",
    "mae = mean_absolute_error(y_test, y_pred)\n",
    "mse = mean_squared_error(y_test, y_pred)\n",
    "rmse = np.sqrt(mse)\n",
    "\n",
    "# Display results\n",
    "print(f\"R-squared Score: {r2}\")\n",
    "print(f\"Mean Absolute Error (MAE): {mae}\")\n",
    "print(f\"Mean Squared Error (MSE): {mse}\")\n",
    "print(f\"Root Mean Squared Error (RMSE): {rmse}\")\n",
    "\n"
   ]
  },
  {
   "cell_type": "code",
   "execution_count": null,
   "id": "fdc8243e-ec7d-4e86-9add-b7f63f6286a0",
   "metadata": {},
   "outputs": [],
   "source": []
  }
 ],
 "metadata": {
  "kernelspec": {
   "display_name": "Python [conda env:base] *",
   "language": "python",
   "name": "conda-base-py"
  },
  "language_info": {
   "codemirror_mode": {
    "name": "ipython",
    "version": 3
   },
   "file_extension": ".py",
   "mimetype": "text/x-python",
   "name": "python",
   "nbconvert_exporter": "python",
   "pygments_lexer": "ipython3",
   "version": "3.12.4"
  }
 },
 "nbformat": 4,
 "nbformat_minor": 5
}
