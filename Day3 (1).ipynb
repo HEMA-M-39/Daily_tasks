{
 "cells": [
  {
   "cell_type": "code",
   "execution_count": 14,
   "id": "c12043e8-059e-44c5-ab59-cfdb3d3e98dd",
   "metadata": {},
   "outputs": [
    {
     "name": "stdout",
     "output_type": "stream",
     "text": [
      "zoe is barking wow wow!\n",
      "zoe is sleeping zzz!\n"
     ]
    }
   ],
   "source": [
    "class Dog:\n",
    "    def __init__(self, name, age):\n",
    "        self.name = name\n",
    "        self.age = age\n",
    "\n",
    "    def bark(self):\n",
    "        return f\"{self.name} is barking wow wow!\"\n",
    "\n",
    "    def sleep(self):\n",
    "        return f\"{self.name} is sleeping zzz!\"\n",
    "\n",
    "d1 = Dog(\"zoe\", 1)\n",
    "print(d1.bark())\n",
    "print(d1.sleep())\n",
    "        "
   ]
  },
  {
   "cell_type": "code",
   "execution_count": 24,
   "id": "051cf6d1-518d-47d5-9089-39c44d9ca89b",
   "metadata": {},
   "outputs": [
    {
     "name": "stdout",
     "output_type": "stream",
     "text": [
      "zoe is barking wow wow!\n",
      "zoe is sleeping zzz!\n"
     ]
    }
   ],
   "source": [
    "class Dog:\n",
    "    def dog(self, name, age):\n",
    "        self.name = name\n",
    "        self.age = age\n",
    "\n",
    "    def bark(self):\n",
    "        return f\"{self.name} is barking wow wow!\"\n",
    "\n",
    "    def sleep(self):\n",
    "        return f\"{self.name} is sleeping zzz!\"\n",
    "\n",
    "d1 = Dog()\n",
    "d1.dog(\"zoe\", 1)\n",
    "print(d1.bark())\n",
    "print(d1.sleep())"
   ]
  },
  {
   "cell_type": "code",
   "execution_count": 21,
   "id": "164db94a-d755-442b-8dd7-897505567aaf",
   "metadata": {},
   "outputs": [
    {
     "name": "stdout",
     "output_type": "stream",
     "text": [
      "Zoe is barking wow wow!\n",
      "Zoe is sleeping zzz!\n",
      "Zoe is playing!!\n",
      "Zoe age: 1\n"
     ]
    }
   ],
   "source": [
    "class Dog:\n",
    "    def __init__(self, name, age):\n",
    "        self.name = name\n",
    "        self.age = age\n",
    "\n",
    "    def bark(self):\n",
    "        return f\"{self.name} is barking wow wow!\"\n",
    "\n",
    "    def sleep(self):\n",
    "        return f\"{self.name} is sleeping zzz!\"\n",
    "class Puppy(Dog):\n",
    "    def play(self):\n",
    "       return f\"{self.name} is playing!!\"\n",
    "\n",
    "puppy = Puppy(\"Zoe\", 1)\n",
    "print(puppy.bark())\n",
    "print(puppy.sleep())\n",
    "print(puppy.play())\n",
    "print(f\"Zoe age:\",puppy.age)"
   ]
  },
  {
   "cell_type": "code",
   "execution_count": 41,
   "id": "2c392b90-6121-42cc-85ff-093caef456ab",
   "metadata": {},
   "outputs": [
    {
     "name": "stdout",
     "output_type": "stream",
     "text": [
      "Leo is a Golden hybrid of Dog and Cat.\n",
      "Leo says Woof!\n",
      "Leo is sleeping.\n",
      "A Golden cat says Meow!\n",
      "A Golden cat is purring.\n"
     ]
    }
   ],
   "source": [
    "class Dog:\n",
    "    def __init__(self, name, age):\n",
    "        self.name = name\n",
    "        self.age = age\n",
    "\n",
    "    def bark(self):\n",
    "        return f\"{self.name} says Woof!\"\n",
    "\n",
    "    def sleep(self):\n",
    "        return f\"{self.name} is sleeping.\"\n",
    "\n",
    "class Cat:\n",
    "    def __init__(self, color):\n",
    "        self.color = color\n",
    "\n",
    "    def meow(self):\n",
    "        return f\"A {self.color} cat says Meow!\"\n",
    "\n",
    "    def purr(self):\n",
    "        return f\"A {self.color} cat is purring.\"\n",
    "\n",
    "class Hybrid(Dog, Cat):\n",
    "    def __init__(self, name, age, color):\n",
    "        Dog.__init__(self, name, age)  \n",
    "        Cat.__init__(self, color)      \n",
    "\n",
    "    def show_traits(self):\n",
    "        return f\"{self.name} is a {self.color} hybrid of Dog and Cat.\"\n",
    "\n",
    "        \n",
    "hybrid1 = Hybrid(\"Leo\", 2, \"Golden\")\n",
    "\n",
    "\n",
    "print(hybrid1.show_traits()) \n",
    "print(hybrid1.bark())         \n",
    "print(hybrid1.sleep())       \n",
    "print(hybrid1.meow())        \n",
    "print(hybrid1.purr())"
   ]
  },
  {
   "cell_type": "code",
   "execution_count": 45,
   "id": "09c2ba86-54f7-4286-965f-5088d282770d",
   "metadata": {},
   "outputs": [
    {
     "name": "stdout",
     "output_type": "stream",
     "text": [
      "RoboX's Energy Level: 50\n",
      "RoboX's energy updated to 50.\n",
      "RoboX charged! New energy level: 50\n",
      "Error: Direct access to private attribute is not allowed!\n",
      "Model: RX-100\n"
     ]
    }
   ],
   "source": [
    "class Robot:\n",
    "    def __init__(self, name, model, energy_level):\n",
    "        self.name = name \n",
    "        self._model = model  \n",
    "        self.__energy_level = energy_level  \n",
    "\n",
    "    def get_energy(self):\n",
    "        return f\"{self.name}'s Energy Level: {self.__energy_level}\"\n",
    "        \n",
    "    def set_energy(self, new_energy):\n",
    "        if 0 <= new_energy <= 100:\n",
    "            self._energy_level = new_energy\n",
    "            return f\"{self.name}'s energy updated to {self.__energy_level}.\"\n",
    "        else:\n",
    "            return \"Invalid energy level. Must be between 0 and 100.\"\n",
    "\n",
    "    def charge(self, amount):\n",
    "        if amount > 0:\n",
    "            self._energy_level = min(self._energy_level + amount, 100)\n",
    "            return f\"{self.name} charged! New energy level: {self.__energy_level}\"\n",
    "        else:\n",
    "            return \"Invalid charge amount.\"\n",
    "\n",
    "\n",
    "robot1 = Robot(\"RoboX\", \"RX-100\", 50)\n",
    "\n",
    "print(robot1.get_energy())  \n",
    "print(robot1.set_energy(90))  \n",
    "print(robot1.charge(15)) \n",
    "try:\n",
    "    print(robot1.__energy_level)  \n",
    "except AttributeError:\n",
    "    print(\"Error: Direct access to private attribute is not allowed!\")\n",
    "print(f\"Model: {robot1._model}\")"
   ]
  },
  {
   "cell_type": "code",
   "execution_count": null,
   "id": "bc5ac6a5-1a76-4172-aaa0-9acf618dda8c",
   "metadata": {},
   "outputs": [],
   "source": []
  }
 ],
 "metadata": {
  "kernelspec": {
   "display_name": "Python 3 (ipykernel)",
   "language": "python",
   "name": "python3"
  },
  "language_info": {
   "codemirror_mode": {
    "name": "ipython",
    "version": 3
   },
   "file_extension": ".py",
   "mimetype": "text/x-python",
   "name": "python",
   "nbconvert_exporter": "python",
   "pygments_lexer": "ipython3",
   "version": "3.12.4"
  }
 },
 "nbformat": 4,
 "nbformat_minor": 5
}
