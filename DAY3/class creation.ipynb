{
 "cells": [
  {
   "cell_type": "code",
   "execution_count": 1,
   "id": "c02dff3b-d063-45e1-b1a8-11d37cb1df19",
   "metadata": {},
   "outputs": [
    {
     "name": "stdout",
     "output_type": "stream",
     "text": [
      "zoe is barking wow wow!\n",
      "zoe is sleeping zzz!\n"
     ]
    }
   ],
   "source": [
    "class Dog:\n",
    "    def dog(self, name, age):\n",
    "        self.name = name\n",
    "        self.age = age\n",
    "\n",
    "    def bark(self):\n",
    "        return f\"{self.name} is barking wow wow!\"\n",
    "\n",
    "    def sleep(self):\n",
    "        return f\"{self.name} is sleeping zzz!\"\n",
    "\n",
    "d1 = Dog()\n",
    "d1.dog(\"zoe\", 1)\n",
    "print(d1.bark())\n",
    "print(d1.sleep())"
   ]
  },
  {
   "cell_type": "code",
   "execution_count": null,
   "id": "5abb2600-3731-4251-80f3-52d109bd6fd5",
   "metadata": {},
   "outputs": [],
   "source": []
  }
 ],
 "metadata": {
  "kernelspec": {
   "display_name": "Python [conda env:base] *",
   "language": "python",
   "name": "conda-base-py"
  },
  "language_info": {
   "codemirror_mode": {
    "name": "ipython",
    "version": 3
   },
   "file_extension": ".py",
   "mimetype": "text/x-python",
   "name": "python",
   "nbconvert_exporter": "python",
   "pygments_lexer": "ipython3",
   "version": "3.12.4"
  }
 },
 "nbformat": 4,
 "nbformat_minor": 5
}
