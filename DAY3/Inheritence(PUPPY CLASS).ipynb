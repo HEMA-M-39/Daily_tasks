{
 "cells": [
  {
   "cell_type": "code",
   "execution_count": 1,
   "id": "b852fa25-754d-4235-9594-d032d81797bb",
   "metadata": {},
   "outputs": [
    {
     "name": "stdout",
     "output_type": "stream",
     "text": [
      "Zoe is barking wow wow!\n",
      "Zoe is sleeping zzz!\n",
      "Zoe is playing!!\n",
      "Zoe age: 1\n"
     ]
    }
   ],
   "source": [
    "class Dog:\n",
    "    def __init__(self, name, age):\n",
    "        self.name = name\n",
    "        self.age = age\n",
    "\n",
    "    def bark(self):\n",
    "        return f\"{self.name} is barking wow wow!\"\n",
    "\n",
    "    def sleep(self):\n",
    "        return f\"{self.name} is sleeping zzz!\"\n",
    "class Puppy(Dog):\n",
    "    def play(self):\n",
    "       return f\"{self.name} is playing!!\"\n",
    "\n",
    "puppy = Puppy(\"Zoe\", 1)\n",
    "print(puppy.bark())\n",
    "print(puppy.sleep())\n",
    "print(puppy.play())\n",
    "print(f\"Zoe age:\",puppy.age)"
   ]
  },
  {
   "cell_type": "code",
   "execution_count": null,
   "id": "7ee08918-cd2b-4b1e-9150-c4a50901ecf6",
   "metadata": {},
   "outputs": [],
   "source": []
  }
 ],
 "metadata": {
  "kernelspec": {
   "display_name": "Python [conda env:base] *",
   "language": "python",
   "name": "conda-base-py"
  },
  "language_info": {
   "codemirror_mode": {
    "name": "ipython",
    "version": 3
   },
   "file_extension": ".py",
   "mimetype": "text/x-python",
   "name": "python",
   "nbconvert_exporter": "python",
   "pygments_lexer": "ipython3",
   "version": "3.12.4"
  }
 },
 "nbformat": 4,
 "nbformat_minor": 5
}
