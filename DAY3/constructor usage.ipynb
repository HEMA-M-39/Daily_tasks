{
 "cells": [
  {
   "cell_type": "code",
   "execution_count": 1,
   "id": "aabb45b7-0ca7-434e-88f8-e65722c49c3d",
   "metadata": {},
   "outputs": [
    {
     "name": "stdout",
     "output_type": "stream",
     "text": [
      "zoe is barking wow wow!\n",
      "zoe is sleeping zzz!\n"
     ]
    }
   ],
   "source": [
    "class Dog:\n",
    "    def __init__(self, name, age):\n",
    "        self.name = name\n",
    "        self.age = age\n",
    "\n",
    "    def bark(self):\n",
    "        return f\"{self.name} is barking wow wow!\"\n",
    "\n",
    "    def sleep(self):\n",
    "        return f\"{self.name} is sleeping zzz!\"\n",
    "\n",
    "d1 = Dog(\"zoe\", 1)\n",
    "print(d1.bark())\n",
    "print(d1.sleep())"
   ]
  },
  {
   "cell_type": "code",
   "execution_count": null,
   "id": "14fc9037-c011-42a1-a383-b84220686206",
   "metadata": {},
   "outputs": [],
   "source": []
  }
 ],
 "metadata": {
  "kernelspec": {
   "display_name": "Python [conda env:base] *",
   "language": "python",
   "name": "conda-base-py"
  },
  "language_info": {
   "codemirror_mode": {
    "name": "ipython",
    "version": 3
   },
   "file_extension": ".py",
   "mimetype": "text/x-python",
   "name": "python",
   "nbconvert_exporter": "python",
   "pygments_lexer": "ipython3",
   "version": "3.12.4"
  }
 },
 "nbformat": 4,
 "nbformat_minor": 5
}
