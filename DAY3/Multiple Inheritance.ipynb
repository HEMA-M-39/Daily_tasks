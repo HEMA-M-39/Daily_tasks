{
 "cells": [
  {
   "cell_type": "code",
   "execution_count": 1,
   "id": "8cd88f3f-b742-4433-9bfd-399d4b141e0b",
   "metadata": {},
   "outputs": [
    {
     "name": "stdout",
     "output_type": "stream",
     "text": [
      "Leo is a Golden hybrid of Dog and Cat.\n",
      "Leo says Woof!\n",
      "Leo is sleeping.\n",
      "A Golden cat says Meow!\n",
      "A Golden cat is purring.\n"
     ]
    }
   ],
   "source": [
    "class Dog:\n",
    "    def __init__(self, name, age):\n",
    "        self.name = name\n",
    "        self.age = age\n",
    "\n",
    "    def bark(self):\n",
    "        return f\"{self.name} says Woof!\"\n",
    "\n",
    "    def sleep(self):\n",
    "        return f\"{self.name} is sleeping.\"\n",
    "\n",
    "class Cat:\n",
    "    def __init__(self, color):\n",
    "        self.color = color\n",
    "\n",
    "    def meow(self):\n",
    "        return f\"A {self.color} cat says Meow!\"\n",
    "\n",
    "    def purr(self):\n",
    "        return f\"A {self.color} cat is purring.\"\n",
    "\n",
    "class Hybrid(Dog, Cat):\n",
    "    def __init__(self, name, age, color):\n",
    "        Dog.__init__(self, name, age)  \n",
    "        Cat.__init__(self, color)      \n",
    "\n",
    "    def show_traits(self):\n",
    "        return f\"{self.name} is a {self.color} hybrid of Dog and Cat.\"\n",
    "\n",
    "        \n",
    "hybrid1 = Hybrid(\"Leo\", 2, \"Golden\")\n",
    "\n",
    "\n",
    "print(hybrid1.show_traits()) \n",
    "print(hybrid1.bark())         \n",
    "print(hybrid1.sleep())       \n",
    "print(hybrid1.meow())        \n",
    "print(hybrid1.purr())"
   ]
  },
  {
   "cell_type": "code",
   "execution_count": null,
   "id": "83d141e3-24f5-4cfc-9fd1-62871a165c50",
   "metadata": {},
   "outputs": [],
   "source": []
  }
 ],
 "metadata": {
  "kernelspec": {
   "display_name": "Python [conda env:base] *",
   "language": "python",
   "name": "conda-base-py"
  },
  "language_info": {
   "codemirror_mode": {
    "name": "ipython",
    "version": 3
   },
   "file_extension": ".py",
   "mimetype": "text/x-python",
   "name": "python",
   "nbconvert_exporter": "python",
   "pygments_lexer": "ipython3",
   "version": "3.12.4"
  }
 },
 "nbformat": 4,
 "nbformat_minor": 5
}
